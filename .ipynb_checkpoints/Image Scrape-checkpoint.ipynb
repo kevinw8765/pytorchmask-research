{
 "cells": [
  {
   "cell_type": "code",
   "execution_count": 3,
   "id": "complex-federation",
   "metadata": {},
   "outputs": [],
   "source": [
    "import torch\n",
    "import requests\n",
    "import pandas as pd\n",
    "import numpy as np\n",
    "from datetime import datetime, timedelta\n",
    "from bs4 import BeautifulSoup\n",
    "from PIL import Image\n",
    "from pathlib import Path\n",
    "from urllib.parse import urljoin\n",
    "import os\n",
    "import torchvision.transforms.v2  as transforms\n",
    "from PIL import Image\n",
    "from io import BytesIO\n"
   ]
  },
  {
   "cell_type": "code",
   "execution_count": 6,
   "id": "southwest-center",
   "metadata": {},
   "outputs": [
    {
     "name": "stdout",
     "output_type": "stream",
     "text": [
      "['01/01/2024', '01/02/2024']\n",
      "https://www.wpc.ncep.noaa.gov/archives/sfc/2024/namussfc2024010115.gif\n",
      "https://www.wpc.ncep.noaa.gov/archives/sfc/2024/namussfc2024010215.gif\n"
     ]
    }
   ],
   "source": [
    "%matplotlib inline\n",
    "\n",
    "base_url = \"https://www.wpc.ncep.noaa.gov/archives/web_pages/sfc/sfc_archive_maps.php\"\n",
    "base_img_url = \"https://www.wpc.ncep.noaa.gov/archives/\"\n",
    " \n",
    "# Define path to store datasets\n",
    "dataset_dir = Path(\"./Datasets/\")\n",
    "# Create the dataset directory if it does not exist\n",
    "dataset_dir.mkdir(parents=True, exist_ok=True)\n",
    "dataset_name = \"pytorch-for-information-extraction\"\n",
    "dataset_path = Path(f'{dataset_dir}/{dataset_name}/code/datasets/detection/WeatherMaps')\n",
    "\n",
    "\n",
    "def download_img(image_url, save):\n",
    "    res = requests.get(image_url)\n",
    "    if res.status_code == 200:\n",
    "        with open(save, 'wb') as f:\n",
    "            f.write(res.content)\n",
    "\n",
    "def generate_dates(start_date, end_date):\n",
    "    dates = []\n",
    "    current_date = start_date\n",
    "    while current_date <= end_date:\n",
    "        dates.append(current_date.strftime(\"%m/%d/%Y\"))\n",
    "        current_date += timedelta(days=1)\n",
    "    return dates\n",
    "\n",
    "def parse_date(date_str):\n",
    "    return datetime.strptime(date_str, '%m/%d/%Y')\n",
    "    \n",
    "start_date = parse_date('01/01/2024')\n",
    "end_date = parse_date('01/02/2024')\n",
    "\n",
    "dates = generate_dates(start_date, end_date)\n",
    "\n",
    "print(dates)\n",
    "\n",
    "def reverseDate(date):\n",
    "    list = date.split(\"/\")\n",
    "    new_date_str = \"\"\n",
    "    \n",
    "    month = list[0]\n",
    "    day = list[1]\n",
    "    year = list[2]\n",
    "    \n",
    "    new_date_str = year + month + day\n",
    "    return new_date_str\n",
    "\n",
    "for date in dates:\n",
    "    date_reversed = reverseDate(date)\n",
    "    url = f\"{base_url}?arcdate={date}&selmap={date_reversed}15&maptype=namussfc\"\n",
    "\n",
    "    response = requests.get(url)\n",
    "    soup = BeautifulSoup(response.text, 'html.parser')\n",
    "\n",
    "    img = soup.find('img', {'class': 'sfcmapimage'})\n",
    "\n",
    "    if img:\n",
    "        rel_img_url = img['src']\n",
    "        relative = rel_img_url.split(\"../\")\n",
    "        rel_img_url = relative[2]\n",
    "        \n",
    "        combined_url = urljoin(base_img_url, rel_img_url)\n",
    "        print(combined_url)\n",
    "\n",
    "        img_save_path = dataset_path / f\"namussfc{date_reversed}15.jpg\"\n",
    "        download_img(combined_url, img_save_path)\n",
    " "
   ]
  },
  {
   "cell_type": "code",
   "execution_count": null,
   "id": "f3532609",
   "metadata": {},
   "outputs": [],
   "source": []
  }
 ],
 "metadata": {
  "kernelspec": {
   "display_name": "Python 3 (ipykernel)",
   "language": "python",
   "name": "python3"
  },
  "language_info": {
   "codemirror_mode": {
    "name": "ipython",
    "version": 3
   },
   "file_extension": ".py",
   "mimetype": "text/x-python",
   "name": "python",
   "nbconvert_exporter": "python",
   "pygments_lexer": "ipython3",
   "version": "3.9.2"
  }
 },
 "nbformat": 4,
 "nbformat_minor": 5
}
